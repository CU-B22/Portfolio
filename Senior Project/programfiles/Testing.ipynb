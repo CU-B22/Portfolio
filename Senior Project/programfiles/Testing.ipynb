{
 "cells": [
  {
   "cell_type": "code",
   "execution_count": 2,
   "id": "ebe550f7",
   "metadata": {
    "scrolled": true
   },
   "outputs": [],
   "source": [
    "from operator import index\n",
    "import pandas as pd\n",
    "import csv \n",
    "\n",
    "df = pd.read_csv(r'test.csv', skip_blank_lines = True)\n",
    "# print(df.iloc[0:3,0:7])\n",
    "filt = df['Device ID'] == 'Lens ID'\n",
    "\n",
    "df.drop(df.columns.difference([\"Device ID\",\"Build Mode\",\"Align MA0\", \"Align MA1\", \"Align MA2\", \"Align MA3\", \"Align MA4\", \"Align VX\", \"Align VY\", \"Result\"]), axis = 1, inplace = True)\n",
    "df.drop(index = df[filt].index, inplace = True)\n"
   ]
  },
  {
   "cell_type": "code",
   "execution_count": null,
   "id": "36d752eb",
   "metadata": {
    "scrolled": true
   },
   "outputs": [],
   "source": [
    "df.dropna()\n",
    "df = df[df['Device ID'].notna()]\n",
    "print(df)"
   ]
  },
  {
   "cell_type": "code",
   "execution_count": null,
   "id": "0e93d6d4",
   "metadata": {},
   "outputs": [],
   "source": [
    "df.drop_duplicates()"
   ]
  },
  {
   "cell_type": "code",
   "execution_count": null,
   "id": "5767fef0",
   "metadata": {},
   "outputs": [],
   "source": [
    "from operator import index\n",
    "import pandas as pd\n",
    "import numpy as np\n",
    "import csv \n",
    "    \n",
    "\n",
    "df = pd.read_csv('test2.csv', skip_blank_lines = True) # reads the specified datafile\n",
    "df.drop(df.columns.difference([\"Process Name\",\"Device ID\",\"Build Mode\",\"Align MA0\", \"Align MA1\", \"Align MA2\", \"Align MA3\", \"Align MA4\", \"Align VX\", \"Align VY\", \"Result\"]), axis = 1, inplace = True)\n",
    "# ^removes all columns except those specified\n",
    "\n",
    "print(\"Please enter characters in CAPS\")\n",
    "filter_value = str(input(\"Enter 4-digit Device ID: \"))\n",
    "\n",
    "df = df[df[\"Device ID\"].str.contains(filter_value)==True] # takes user input and filters out everything else in Device ID\n",
    "df = df[df[\"Build Mode\"].str.contains(\"REPEATABILITY\")==False] # removes rows that have REPEATABILITY based on the Build Mode\n",
    "\n",
    "\n",
    "df = df.dropna() # drops null values\n",
    "df = df.drop_duplicates(subset = ['Process Name', 'Device ID', 'Build Mode', 'Result'], keep = 'last')\n",
    "print(df) # prints what the datafile would look like\n",
    "df.to_csv('modified.csv', index=False) # saves it to a new csv file titles 'modified'"
   ]
  },
  {
   "cell_type": "code",
   "execution_count": 8,
   "id": "471480cc",
   "metadata": {},
   "outputs": [
    {
     "name": "stdout",
     "output_type": "stream",
     "text": [
      "<class 'pandas.core.frame.DataFrame'>\n",
      "Int64Index: 671 entries, 300 to 1000\n",
      "Data columns (total 11 columns):\n",
      " #   Column        Non-Null Count  Dtype  \n",
      "---  ------        --------------  -----  \n",
      " 0   Process Name  671 non-null    object \n",
      " 1   Device ID     671 non-null    object \n",
      " 2   Build Mode    671 non-null    object \n",
      " 3   Result        671 non-null    object \n",
      " 4   Align MA0     671 non-null    float64\n",
      " 5   Align MA1     671 non-null    float64\n",
      " 6   Align MA2     671 non-null    float64\n",
      " 7   Align MA3     671 non-null    float64\n",
      " 8   Align MA4     671 non-null    float64\n",
      " 9   Align VX      671 non-null    float64\n",
      " 10  Align VY      671 non-null    float64\n",
      "dtypes: float64(7), object(4)\n",
      "memory usage: 62.9+ KB\n"
     ]
    }
   ],
   "source": [
    "df.info()"
   ]
  },
  {
   "cell_type": "code",
   "execution_count": null,
   "id": "6790567c",
   "metadata": {},
   "outputs": [],
   "source": [
    "print(\"Please enter characters in CAPS\")\n",
    "filter_value = str(input(\"Enter 4-digit Device ID: \"))\n",
    "\n",
    "df = df[df[\"Device ID\"].str.contains(filter_value)==True] # takes user input and filters out everything else in Device ID\n",
    "df = df[df[\"Build Mode\"].str.contains(\"REPEATABILITY\")==False] # removes rows that have REPEATABILITY based on the Build Mode\n",
    "\n",
    "if((df['Process Name'] != 'XX').any()):\n",
    "\n",
    "    df.drop('Process Name' , inplace=True, axis=1)\n",
    "\n",
    "else:\n",
    "    pass\n",
    "\n",
    "print(df)"
   ]
  },
  {
   "cell_type": "code",
   "execution_count": null,
   "id": "5c03cb10",
   "metadata": {},
   "outputs": [],
   "source": [
    "def filter_rows_by_values(df, col, values):\n",
    "    return df[~df[col].isin(values)]\n",
    "\n",
    "filter_rows_by_values(df, \"Process Name\", [\"XX\",\"YYY\"])\n",
    "\n",
    "df"
   ]
  },
  {
   "cell_type": "code",
   "execution_count": null,
   "id": "89534c29",
   "metadata": {},
   "outputs": [],
   "source": [
    "if((df[\"Process Name\"] != 'XX').any()):\n",
    "\n",
    "    df.drop(\"Process Name\" , inplace=True, axis=1)\n",
    "\n",
    "else:\n",
    "    pass\n",
    "\n",
    "df"
   ]
  }
 ],
 "metadata": {
  "kernelspec": {
   "display_name": "Python 3 (ipykernel)",
   "language": "python",
   "name": "python3"
  },
  "language_info": {
   "codemirror_mode": {
    "name": "ipython",
    "version": 3
   },
   "file_extension": ".py",
   "mimetype": "text/x-python",
   "name": "python",
   "nbconvert_exporter": "python",
   "pygments_lexer": "ipython3",
   "version": "3.9.7"
  }
 },
 "nbformat": 4,
 "nbformat_minor": 5
}
