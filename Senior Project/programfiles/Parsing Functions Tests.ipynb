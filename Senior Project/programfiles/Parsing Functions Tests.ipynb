{
 "cells": [
  {
   "cell_type": "code",
   "execution_count": 6,
   "id": "e2d72db0",
   "metadata": {},
   "outputs": [],
   "source": [
    "# This Python 3 environment comes with many helpful analytics libraries installed\n",
    "# It is defined by the kaggle/python docker image: https://github.com/kaggle/docker-python\n",
    "\n",
    "#load packages\n",
    "import sys #access to system parameters https://docs.python.org/3/library/sys.html\n",
    "import pandas as pd #collection of functions for data processing and analysis modeled after R dataframes with SQL like features\n",
    "import matplotlib #collection of functions for scientific and publication-ready visualization\n",
    "import numpy as np #foundational package for scientific computing\n",
    "import scipy as sp #collection of functions for scientific computing and advance mathematics\n",
    "import IPython\n",
    "from IPython import display #pretty printing of dataframes in Jupyter notebook\n",
    "import sklearn #collection of machine learning algorithms\n",
    "#misc libraries\n",
    "import random\n",
    "import time\n",
    "from subprocess import check_output\n"
   ]
  },
  {
   "cell_type": "code",
   "execution_count": 7,
   "id": "0e68f0d6",
   "metadata": {},
   "outputs": [],
   "source": [
    "#Common Model Algorithms\n",
    "from sklearn import svm, tree, linear_model, neighbors, naive_bayes, ensemble, discriminant_analysis, gaussian_process\n",
    "\n",
    "#Common Model Helpers\n",
    "from sklearn.preprocessing import OneHotEncoder, LabelEncoder\n",
    "from sklearn import feature_selection\n",
    "from sklearn import model_selection\n",
    "from sklearn import metrics\n",
    "\n",
    "#Visualization\n",
    "import matplotlib as mpl\n",
    "import matplotlib.pyplot as plt\n",
    "import matplotlib.pylab as pylab\n",
    "import seaborn as sns\n",
    "\n",
    "#Configure Visualization Defaults\n",
    "#%matplotlib inline = show plots in Jupyter Notebook browser\n",
    "%matplotlib inline\n",
    "mpl.style.use('ggplot')\n",
    "sns.set_style('white')\n",
    "pylab.rcParams['figure.figsize'] = 12,8"
   ]
  },
  {
   "cell_type": "code",
   "execution_count": null,
   "id": "4d4a42e1",
   "metadata": {},
   "outputs": [],
   "source": [
    "df = pd.read_csv('test.csv', skip_blank_lines = True) #reads the specified datafile\n",
    "print(df)"
   ]
  },
  {
   "cell_type": "code",
   "execution_count": null,
   "id": "1b35c000",
   "metadata": {},
   "outputs": [],
   "source": [
    "print(df.info()) #this prints the informaton associated with the database; i.e. number of non-null values, dtypes, #of coulmms, and column names"
   ]
  },
  {
   "cell_type": "code",
   "execution_count": null,
   "id": "3e4946b5",
   "metadata": {},
   "outputs": [],
   "source": [
    "df = df.iloc[0:50] #only gives me the first 50 rows\n",
    "df1 = df.to_csv('testdf.csv', index = False) #saves datafiles as a new csv\n",
    "df1 = pd.read_csv('testdf.csv', skip_blank_lines = True) #reads the specified datafile\n",
    "\n",
    "df1"
   ]
  },
  {
   "cell_type": "code",
   "execution_count": null,
   "id": "e25ff430",
   "metadata": {},
   "outputs": [],
   "source": [
    "print('Train columns with null values:\\n', df.isnull().sum())#gives me the number of train columns with null values\n",
    "print(\"-\"*10)\n",
    "\n",
    "print('Test/Validation columns with null values:\\n', df1.isnull().sum())#gives the # of test/validate columns w/ null values\n",
    "print(\"-\"*10)\n",
    "\n",
    "df1.describe(include = 'all') #gives me the descriptive statistics associated with my datafile"
   ]
  }
 ],
 "metadata": {
  "kernelspec": {
   "display_name": "Python 3 (ipykernel)",
   "language": "python",
   "name": "python3"
  },
  "language_info": {
   "codemirror_mode": {
    "name": "ipython",
    "version": 3
   },
   "file_extension": ".py",
   "mimetype": "text/x-python",
   "name": "python",
   "nbconvert_exporter": "python",
   "pygments_lexer": "ipython3",
   "version": "3.9.7"
  }
 },
 "nbformat": 4,
 "nbformat_minor": 5
}
